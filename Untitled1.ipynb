{
 "cells": [
  {
   "cell_type": "code",
   "execution_count": 1,
   "id": "c4a7b1cf",
   "metadata": {
    "pycharm": {
     "name": "#%%\n"
    }
   },
   "outputs": [
    {
     "name": "stdout",
     "output_type": "stream",
     "text": [
      "Found 8543 json files.\n",
      "https://raw.githubusercontent.com/vz-risk/veris/master/verisc-merged.json\n"
     ]
    }
   ],
   "source": [
    "from verispy import VERIS\n",
    "import pandas as pd\n",
    "import matplotlib.pyplot as plt\n",
    "data_dir=\"validated\" #replace with your own address for data \n",
    "v = VERIS(json_dir=data_dir)\n",
    "print (v.schema_url)"
   ]
  },
  {
   "cell_type": "code",
   "execution_count": 2,
   "id": "1587689e",
   "metadata": {
    "pycharm": {
     "name": "#%%\n"
    }
   },
   "outputs": [
    {
     "name": "stdout",
     "output_type": "stream",
     "text": [
      "Loading schema\n",
      "Loading JSON files to DataFrame.\n"
     ]
    },
    {
     "name": "stderr",
     "output_type": "stream",
     "text": [
      "100%|██████████| 8543/8543 [00:10<00:00, 833.81it/s] \n"
     ]
    },
    {
     "name": "stdout",
     "output_type": "stream",
     "text": [
      "Finished loading JSON files to dataframe.\n",
      "Dropped 5 rows with duplicated incident_id values.\n",
      "Building DataFrame with enumerations.\n",
      "Building enumeration columns.\n"
     ]
    },
    {
     "name": "stderr",
     "output_type": "stream",
     "text": [
      "  8%|▊         | 13/173 [00:00<00:08, 17.81it/s]/opt/anaconda3/lib/python3.9/site-packages/verispy/veris.py:196: PerformanceWarning: DataFrame is highly fragmented.  This is usually the result of calling `frame.insert` many times, which has poor performance.  Consider joining all columns at once using pd.concat(axis=1) instead.  To get a de-fragmented frame, use `newframe = frame.copy()`\n",
      "  comb_df[newvarname] = raw_df[col].apply(lambda x: var_amt_enum_checker(x, item, variety_or_amt))\n",
      "/opt/anaconda3/lib/python3.9/site-packages/verispy/veris.py:190: PerformanceWarning: DataFrame is highly fragmented.  This is usually the result of calling `frame.insert` many times, which has poor performance.  Consider joining all columns at once using pd.concat(axis=1) instead.  To get a de-fragmented frame, use `newframe = frame.copy()`\n",
      "  comb_df[newvarname] = raw_df[col].apply(lambda x: enum_checker(x, item))\n",
      " 11%|█         | 19/173 [00:04<00:42,  3.62it/s]/opt/anaconda3/lib/python3.9/site-packages/verispy/veris.py:198: PerformanceWarning: DataFrame is highly fragmented.  This is usually the result of calling `frame.insert` many times, which has poor performance.  Consider joining all columns at once using pd.concat(axis=1) instead.  To get a de-fragmented frame, use `newframe = frame.copy()`\n",
      "  comb_df[col] = raw_df[col]\n",
      "100%|██████████| 173/173 [00:24<00:00,  7.18it/s]\n",
      "/opt/anaconda3/lib/python3.9/site-packages/verispy/veris.py:206: PerformanceWarning: DataFrame is highly fragmented.  This is usually the result of calling `frame.insert` many times, which has poor performance.  Consider joining all columns at once using pd.concat(axis=1) instead.  To get a de-fragmented frame, use `newframe = frame.copy()`\n",
      "  comb_df[var] = False\n",
      "/opt/anaconda3/lib/python3.9/site-packages/verispy/veris.py:215: PerformanceWarning: DataFrame is highly fragmented.  This is usually the result of calling `frame.insert` many times, which has poor performance.  Consider joining all columns at once using pd.concat(axis=1) instead.  To get a de-fragmented frame, use `newframe = frame.copy()`\n",
      "  comb_df[varname] = None\n",
      "/opt/anaconda3/lib/python3.9/site-packages/verispy/veris.py:219: PerformanceWarning: DataFrame is highly fragmented.  This is usually the result of calling `frame.insert` many times, which has poor performance.  Consider joining all columns at once using pd.concat(axis=1) instead.  To get a de-fragmented frame, use `newframe = frame.copy()`\n",
      "  comb_df[varname] = None\n",
      "/opt/anaconda3/lib/python3.9/site-packages/verispy/veris.py:217: PerformanceWarning: DataFrame is highly fragmented.  This is usually the result of calling `frame.insert` many times, which has poor performance.  Consider joining all columns at once using pd.concat(axis=1) instead.  To get a de-fragmented frame, use `newframe = frame.copy()`\n",
      "  comb_df[varname] = np.nan\n"
     ]
    },
    {
     "name": "stdout",
     "output_type": "stream",
     "text": [
      "Done building DataFrame with enumerations.\n",
      "Post-Processing DataFrame (A4 Names, Victim Industries, Patterns)\n",
      "Finished building VERIS DataFrame\n"
     ]
    }
   ],
   "source": [
    "veris_df = v.json_to_df(verbose=True)"
   ]
  },
  {
   "cell_type": "code",
   "execution_count": 3,
   "id": "8a907848",
   "metadata": {
    "pycharm": {
     "name": "#%%\n"
    }
   },
   "outputs": [
    {
     "name": "stdout",
     "output_type": "stream",
     "text": [
      "False    8348\n",
      "True      190\n",
      "Name: action.malware.variety.Ransomware, dtype: int64\n"
     ]
    }
   ],
   "source": [
    "ransomwarecount=veris_df['action.malware.variety.Ransomware'].value_counts()\n",
    "print(ransomwarecount)"
   ]
  },
  {
   "cell_type": "code",
   "execution_count": 4,
   "id": "bfc2d2f5",
   "metadata": {
    "pycharm": {
     "name": "#%%\n"
    }
   },
   "outputs": [
    {
     "data": {
      "text/plain": "             enum     x     n     freq\n0       Confirmed  8458  8538  0.99063\n1       Suspected    72  8538  0.00843\n2       Near miss     8  8538  0.00094\n3  False positive     0  8538  0.00000",
      "text/html": "<div>\n<style scoped>\n    .dataframe tbody tr th:only-of-type {\n        vertical-align: middle;\n    }\n\n    .dataframe tbody tr th {\n        vertical-align: top;\n    }\n\n    .dataframe thead th {\n        text-align: right;\n    }\n</style>\n<table border=\"1\" class=\"dataframe\">\n  <thead>\n    <tr style=\"text-align: right;\">\n      <th></th>\n      <th>enum</th>\n      <th>x</th>\n      <th>n</th>\n      <th>freq</th>\n    </tr>\n  </thead>\n  <tbody>\n    <tr>\n      <th>0</th>\n      <td>Confirmed</td>\n      <td>8458</td>\n      <td>8538</td>\n      <td>0.99063</td>\n    </tr>\n    <tr>\n      <th>1</th>\n      <td>Suspected</td>\n      <td>72</td>\n      <td>8538</td>\n      <td>0.00843</td>\n    </tr>\n    <tr>\n      <th>2</th>\n      <td>Near miss</td>\n      <td>8</td>\n      <td>8538</td>\n      <td>0.00094</td>\n    </tr>\n    <tr>\n      <th>3</th>\n      <td>False positive</td>\n      <td>0</td>\n      <td>8538</td>\n      <td>0.00000</td>\n    </tr>\n  </tbody>\n</table>\n</div>"
     },
     "execution_count": 4,
     "metadata": {},
     "output_type": "execute_result"
    }
   ],
   "source": [
    "v.enum_summary(veris_df, 'security_incident')"
   ]
  },
  {
   "cell_type": "code",
   "execution_count": 5,
   "id": "63807759",
   "metadata": {
    "pycharm": {
     "name": "#%%\n"
    }
   },
   "outputs": [
    {
     "data": {
      "text/plain": "Empty DataFrame\nColumns: [enum, x, n, freq]\nIndex: []",
      "text/html": "<div>\n<style scoped>\n    .dataframe tbody tr th:only-of-type {\n        vertical-align: middle;\n    }\n\n    .dataframe tbody tr th {\n        vertical-align: top;\n    }\n\n    .dataframe thead th {\n        text-align: right;\n    }\n</style>\n<table border=\"1\" class=\"dataframe\">\n  <thead>\n    <tr style=\"text-align: right;\">\n      <th></th>\n      <th>enum</th>\n      <th>x</th>\n      <th>n</th>\n      <th>freq</th>\n    </tr>\n  </thead>\n  <tbody>\n  </tbody>\n</table>\n</div>"
     },
     "execution_count": 5,
     "metadata": {},
     "output_type": "execute_result"
    }
   ],
   "source": [
    "v.enum_summary(veris_df, 'action.malware.variety.Ransomware')"
   ]
  },
  {
   "cell_type": "code",
   "execution_count": 6,
   "id": "1ae5f8d0",
   "metadata": {
    "pycharm": {
     "name": "#%%\n"
    }
   },
   "outputs": [
    {
     "name": "stdout",
     "output_type": "stream",
     "text": [
      "{'security_incident': ['Confirmed', 'Suspected', 'Near miss', 'False positive'], 'confidence': ['High', 'Medium', 'Low', 'None'], 'timeline.compromise.unit': ['Seconds', 'Minutes', 'Hours', 'Days', 'Weeks', 'Months', 'Years', 'Never', 'NA', 'Unknown'], 'timeline.exfiltration.unit': ['Seconds', 'Minutes', 'Hours', 'Days', 'Weeks', 'Months', 'Years', 'Never', 'NA', 'Unknown'], 'timeline.discovery.unit': ['Seconds', 'Minutes', 'Hours', 'Days', 'Weeks', 'Months', 'Years', 'Never', 'NA', 'Unknown'], 'timeline.containment.unit': ['Seconds', 'Minutes', 'Hours', 'Days', 'Weeks', 'Months', 'Years', 'Never', 'NA', 'Unknown'], 'victim.employee_count': ['Small', '1 to 10', '11 to 100', '101 to 1000', 'Large', '1001 to 10000', '10001 to 25000', '25001 to 50000', '50001 to 100000', 'Over 100000', 'Unknown'], 'victim.government': ['Federal', 'Regional', 'Local', 'Unknown', 'Other', 'NA'], 'victim.country': ['Unknown', 'AD', 'AE', 'AF', 'AG', 'AI', 'AL', 'AM', 'AO', 'AQ', 'AR', 'AS', 'AT', 'AU', 'AW', 'AX', 'AZ', 'BA', 'BB', 'BD', 'BE', 'BF', 'BG', 'BH', 'BI', 'BJ', 'BL', 'BM', 'BN', 'BO', 'BQ', 'BR', 'BS', 'BT', 'BV', 'BW', 'BY', 'BZ', 'CA', 'CC', 'CD', 'CF', 'CG', 'CH', 'CI', 'CK', 'CL', 'CM', 'CN', 'CO', 'CR', 'CU', 'CV', 'CW', 'CX', 'CY', 'CZ', 'DE', 'DJ', 'DK', 'DM', 'DO', 'DZ', 'EC', 'EE', 'EG', 'EH', 'ER', 'ES', 'ET', 'FI', 'FJ', 'FK', 'FM', 'FO', 'FR', 'GA', 'GB', 'GD', 'GE', 'GF', 'GG', 'GH', 'GI', 'GL', 'GM', 'GN', 'GP', 'GQ', 'GR', 'GS', 'GT', 'GU', 'GW', 'GY', 'HK', 'HM', 'HN', 'HR', 'HT', 'HU', 'ID', 'IE', 'IL', 'IM', 'IN', 'IO', 'IQ', 'IR', 'IS', 'IT', 'JE', 'JM', 'JO', 'JP', 'KE', 'KG', 'KH', 'KI', 'KM', 'KN', 'KP', 'KR', 'KW', 'KY', 'KZ', 'LA', 'LB', 'LC', 'LI', 'LK', 'LR', 'LS', 'LT', 'LU', 'LV', 'LY', 'MA', 'MC', 'MD', 'ME', 'MF', 'MG', 'MH', 'MK', 'ML', 'MM', 'MN', 'MO', 'MP', 'MQ', 'MR', 'MS', 'MT', 'MU', 'MV', 'MW', 'MX', 'MY', 'MZ', 'NA', 'NC', 'NE', 'NF', 'NG', 'NI', 'NL', 'NO', 'NP', 'NR', 'NU', 'NZ', 'OM', 'PA', 'PE', 'PF', 'PG', 'PH', 'PK', 'PL', 'PM', 'PN', 'PR', 'PS', 'PT', 'PW', 'PY', 'QA', 'RE', 'RO', 'RS', 'RU', 'RW', 'SA', 'SB', 'SC', 'SD', 'SE', 'SG', 'SH', 'SI', 'SJ', 'SK', 'SL', 'SM', 'SN', 'SO', 'SR', 'SS', 'ST', 'SV', 'SX', 'SY', 'SZ', 'TC', 'TD', 'TF', 'TG', 'TH', 'TJ', 'TK', 'TL', 'TM', 'TN', 'TO', 'TR', 'TT', 'TV', 'TW', 'TZ', 'UA', 'UG', 'UM', 'US', 'UY', 'UZ', 'VA', 'VC', 'VE', 'VG', 'VI', 'VN', 'VU', 'WF', 'WS', 'YE', 'YT', 'ZA', 'ZM', 'ZW', 'XK', 'Other'], 'victim.revenue.iso_currency_code': ['AED', 'AFN', 'ALL', 'AMD', 'ANG', 'AOA', 'ARS', 'AUD', 'AWG', 'AZN', 'BAM', 'BBD', 'BDT', 'BGN', 'BHD', 'BIF', 'BMD', 'BND', 'BOB', 'BRL', 'BSD', 'BTN', 'BWP', 'BYR', 'BZD', 'CAD', 'CDF', 'CHF', 'CLP', 'CNY', 'COP', 'CRC', 'CUC', 'CUP', 'CVE', 'CZK', 'DJF', 'DKK', 'DOP', 'DZD', 'EGP', 'ERN', 'ETB', 'EUR', 'FJD', 'FKP', 'GBP', 'GEL', 'GGP', 'GHS', 'GIP', 'GMD', 'GNF', 'GTQ', 'GYD', 'HKD', 'HNL', 'HRK', 'HTG', 'HUF', 'IDR', 'ILS', 'IMP', 'INR', 'IQD', 'IRR', 'ISK', 'JEP', 'JMD', 'JOD', 'JPY', 'KES', 'KGS', 'KHR', 'KMF', 'KPW', 'KRW', 'KWD', 'KYD', 'KZT', 'LAK', 'LBP', 'LKR', 'LRD', 'LSL', 'LTL', 'LVL', 'LYD', 'MAD', 'MDL', 'MGA', 'MKD', 'MMK', 'MNT', 'MOP', 'MRO', 'MUR', 'MVR', 'MWK', 'MXN', 'MYR', 'MZN', 'NAD', 'NGN', 'NIO', 'NOK', 'NPR', 'NZD', 'OMR', 'PAB', 'PEN', 'PGK', 'PHP', 'PKR', 'PLN', 'PYG', 'QAR', 'RON', 'RSD', 'RUB', 'RWF', 'SAR', 'SBD', 'SCR', 'SDG', 'SEK', 'SGD', 'SHP', 'SLL', 'SOS', 'SPL', 'SRD', 'STD', 'SVC', 'SYP', 'SZL', 'THB', 'TJS', 'TMT', 'TND', 'TOP', 'TRY', 'TTD', 'TVD', 'TWD', 'TZS', 'UAH', 'UGX', 'USD', 'UYU', 'UZS', 'VEF', 'VND', 'VUV', 'WST', 'XAF', 'XCD', 'XDR', 'XOF', 'XPF', 'YER', 'ZAR', 'ZMK', 'ZWD', 'XBT', 'BCH', 'Ether', 'Litecoin', 'XMR', 'ZEC'], 'action.hacking.variety': ['Abuse of functionality', 'Backdoor', 'Brute force', 'Buffer overflow', 'Cache poisoning', 'Cryptanalysis', 'CSRF', 'Disable controls', 'DoS', 'Evade Defenses', 'Exploit misconfig', 'Exploit vuln', 'Forced browsing', 'Format string attack', 'Fuzz testing', 'HTTP request smuggling', 'HTTP request splitting', 'HTTP response smuggling', 'HTTP response splitting', 'Insecure deserialization', 'Integer overflows', 'LDAP injection', 'Mail command injection', 'MitM', 'Null byte injection', 'Offline cracking', 'OS commanding', 'Pass-the-hash', 'Path traversal', 'Profile host', 'Reverse engineering', 'RFI', 'Routing detour', 'Scan network', 'Session fixation', 'Session prediction', 'Session replay', 'Soap array abuse', 'Special element injection', 'SQLi', 'SSI injection', 'URL redirector abuse', 'Use of stolen creds', 'User breakout', 'Virtual machine escape', 'XML attribute blowup', 'XML entity expansion', 'XML external entities', 'XML injection', 'XPath injection', 'XQuery injection', 'XSS', 'Other', 'Unknown'], 'action.hacking.vector': ['3rd party desktop', 'Backdoor', 'Command shell', 'Desktop sharing', 'Desktop sharing software', 'Hypervisor', 'Inter-tenant', 'Other network service', 'Partner', 'Physical access', 'VPN', 'Web application', 'Other', 'Unknown'], 'action.hacking.result': ['Infiltrate', 'Exfiltrate', 'Elevate', 'Lateral movement', 'Deploy payload', 'Other', 'Unknown', 'NA'], 'action.malware.variety': ['Adminware', 'Adware', 'Backdoor', 'Backdoor or C2', 'Brute force', 'C2', 'Capture app data', 'Capture stored data', 'Click fraud', 'Click fraud and cryptocurrency mining', 'Client-side attack', 'Cryptocurrency mining', 'Destroy data', 'In-memory', 'MitM', 'Modify data', 'Disable controls', 'DoS', 'Downloader', 'Exploit misconfig', 'Evade Defenses', 'Exploit vuln', 'Export data', 'Packet sniffer', 'Pass-the-hash', 'Password dumper', 'Profile host', 'RAM scraper', 'Ransomware', 'RAT', 'Rootkit', 'Scan network', 'Spam', 'Spyware/Keylogger', 'Trojan', 'Worm', 'Other', 'Unknown'], 'action.malware.vector': ['C2', 'Direct install', 'Download by malware', 'Email', 'Email attachment', 'Email autoexecute', 'Email link', 'Email unknown', 'Email other', 'Instant messaging', 'Network propagation', 'Partner', 'Remote injection', 'Removable media', 'Software update', 'Web application', 'Web application - download', 'Web application - drive-by', 'Other', 'Unknown'], 'action.malware.result': ['Infiltrate', 'Exfiltrate', 'Elevate', 'Lateral movement', 'Deploy payload', 'Other', 'Unknown', 'NA'], 'action.social.variety': ['Baiting', 'Bribery', 'Elicitation', 'Evade Defenses', 'Extortion', 'Forgery', 'Influence', 'Phishing', 'Pretexting', 'Propaganda', 'Scam', 'Spam', 'Other', 'Unknown'], 'action.social.vector': ['Documents', 'Email', 'IM', 'In-person', 'Partner', 'Phone', 'Removable media', 'SMS', 'Social media', 'Software', 'Web application', 'Other', 'Unknown'], 'action.social.target': ['Auditor', 'Call center', 'Cashier', 'Customer', 'Developer', 'End-user', 'End-user or employee', 'Executive', 'Finance', 'Former employee', 'Guard', 'Helpdesk', 'Human resources', 'Maintenance', 'Manager', 'Other employee', 'Partner', 'System admin', 'Other', 'Unknown'], 'action.social.result': ['Infiltrate', 'Exfiltrate', 'Elevate', 'Lateral movement', 'Deploy payload', 'Other', 'Unknown', 'NA'], 'action.error.variety': ['Capacity shortage', 'Classification error', 'Data entry error', 'Disposal error', 'Gaffe', 'Loss', 'Maintenance error', 'Malfunction', 'Misconfiguration', 'Misdelivery', 'Misinformation', 'Omission', 'Physical accidents', 'Programming error', 'Publishing error', 'Other', 'Unknown'], 'action.error.vector': ['Carelessness', 'Inadequate personnel', 'Inadequate processes', 'Inadequate technology', 'Other', 'Random error', 'Web application', 'Unknown'], 'action.misuse.variety': ['Data mishandling', 'Email misuse', 'Evade Defenses', 'Illicit content', 'Knowledge abuse', 'Net misuse', 'Possession abuse', 'Privilege abuse', 'Snap picture', 'Unapproved hardware', 'Unapproved software', 'Unapproved workaround', 'Other', 'Unknown'], 'action.misuse.vector': ['LAN access', 'Non-corporate', 'Physical access', 'Remote access', 'Web application', 'Other', 'Unknown'], 'action.misuse.result': ['Infiltrate', 'Exfiltrate', 'Elevate', 'Lateral movement', 'Deploy payload', 'Other', 'Unknown', 'NA'], 'action.physical.variety': ['Assault', 'Bypassed controls', 'Connection', 'Destruction', 'Disabled controls', 'Evade Defenses', 'Skimmer', 'Snooping', 'Surveillance', 'Tampering', 'Theft', 'Wiretapping', 'Other', 'Unknown'], 'action.physical.vector': ['Partner facility', 'Partner vehicle', 'Personal residence', 'Personal vehicle', 'Public facility', 'Public vehicle', 'Victim grounds', 'Victim public area', 'Victim secure area', 'Victim work area', 'Unknown', 'Other'], 'action.physical.result': ['Infiltrate', 'Exfiltrate', 'Elevate', 'Lateral movement', 'Deploy payload', 'Other', 'Unknown', 'NA'], 'action.environmental.variety': ['Deterioration', 'Earthquake', 'EMI', 'ESD', 'Fire', 'Flood', 'Hazmat', 'Humidity', 'Hurricane', 'Ice', 'Landslide', 'Leak', 'Lightning', 'Meteorite', 'Particulates', 'Pathogen', 'Power failure', 'Temperature', 'Tornado', 'Tsunami', 'Vermin', 'Volcano', 'Wind', 'Other', 'Unknown'], 'action.unknown.result': ['Infiltrate', 'Exfiltrate', 'Elevate', 'Lateral movement', 'Deploy payload', 'Other', 'Unknown', 'NA'], 'actor.external.variety': ['Acquaintance', 'Activist', 'Auditor', 'Competitor', 'Customer', 'Force majeure', 'Former employee', 'Nation-state', 'Organized crime', 'State-affiliated', 'Terrorist', 'Unaffiliated', 'Other', 'Unknown'], 'actor.external.motive': ['Convenience', 'Espionage', 'Fear', 'Financial', 'Fun', 'Grudge', 'Ideology', 'NA', 'Secondary', 'Other', 'Unknown'], 'actor.external.country': ['Unknown', 'AD', 'AE', 'AF', 'AG', 'AI', 'AL', 'AM', 'AO', 'AQ', 'AR', 'AS', 'AT', 'AU', 'AW', 'AX', 'AZ', 'BA', 'BB', 'BD', 'BE', 'BF', 'BG', 'BH', 'BI', 'BJ', 'BL', 'BM', 'BN', 'BO', 'BQ', 'BR', 'BS', 'BT', 'BV', 'BW', 'BY', 'BZ', 'CA', 'CC', 'CD', 'CF', 'CG', 'CH', 'CI', 'CK', 'CL', 'CM', 'CN', 'CO', 'CR', 'CU', 'CV', 'CW', 'CX', 'CY', 'CZ', 'DE', 'DJ', 'DK', 'DM', 'DO', 'DZ', 'EC', 'EE', 'EG', 'EH', 'ER', 'ES', 'ET', 'FI', 'FJ', 'FK', 'FM', 'FO', 'FR', 'GA', 'GB', 'GD', 'GE', 'GF', 'GG', 'GH', 'GI', 'GL', 'GM', 'GN', 'GP', 'GQ', 'GR', 'GS', 'GT', 'GU', 'GW', 'GY', 'HK', 'HM', 'HN', 'HR', 'HT', 'HU', 'ID', 'IE', 'IL', 'IM', 'IN', 'IO', 'IQ', 'IR', 'IS', 'IT', 'JE', 'JM', 'JO', 'JP', 'KE', 'KG', 'KH', 'KI', 'KM', 'KN', 'KP', 'KR', 'KW', 'KY', 'KZ', 'LA', 'LB', 'LC', 'LI', 'LK', 'LR', 'LS', 'LT', 'LU', 'LV', 'LY', 'MA', 'MC', 'MD', 'ME', 'MF', 'MG', 'MH', 'MK', 'ML', 'MM', 'MN', 'MO', 'MP', 'MQ', 'MR', 'MS', 'MT', 'MU', 'MV', 'MW', 'MX', 'MY', 'MZ', 'NA', 'NC', 'NE', 'NF', 'NG', 'NI', 'NL', 'NO', 'NP', 'NR', 'NU', 'NZ', 'OM', 'PA', 'PE', 'PF', 'PG', 'PH', 'PK', 'PL', 'PM', 'PN', 'PR', 'PS', 'PT', 'PW', 'PY', 'QA', 'RE', 'RO', 'RS', 'RU', 'RW', 'SA', 'SB', 'SC', 'SD', 'SE', 'SG', 'SH', 'SI', 'SJ', 'SK', 'SL', 'SM', 'SN', 'SO', 'SR', 'SS', 'ST', 'SV', 'SX', 'SY', 'SZ', 'TC', 'TD', 'TF', 'TG', 'TH', 'TJ', 'TK', 'TL', 'TM', 'TN', 'TO', 'TR', 'TT', 'TV', 'TW', 'TZ', 'UA', 'UG', 'UM', 'US', 'UY', 'UZ', 'VA', 'VC', 'VE', 'VG', 'VI', 'VN', 'VU', 'WF', 'WS', 'YE', 'YT', 'ZA', 'ZM', 'ZW', 'XK', 'Other'], 'actor.internal.variety': ['Auditor', 'Call center', 'Cashier', 'Developer', 'End-user', 'Executive', 'Finance', 'Guard', 'Helpdesk', 'Human resources', 'Maintenance', 'Manager', 'System admin', 'Doctor or nurse', 'Other', 'Unknown'], 'actor.internal.motive': ['Convenience', 'Espionage', 'Fear', 'Financial', 'Fun', 'Grudge', 'Ideology', 'Secondary', 'NA', 'Other', 'Unknown'], 'actor.internal.job_change': ['Demoted', 'Hired', 'Job eval', 'Lateral move', 'Let go', 'Passed over', 'Personal issues', 'Promoted', 'Reprimanded', 'Resigned', 'Other', 'Unknown'], 'actor.partner.motive': ['Convenience', 'Espionage', 'Fear', 'Financial', 'Fun', 'Grudge', 'Ideology', 'Secondary', 'NA', 'Other', 'Unknown'], 'actor.partner.country': ['Unknown', 'AD', 'AE', 'AF', 'AG', 'AI', 'AL', 'AM', 'AO', 'AQ', 'AR', 'AS', 'AT', 'AU', 'AW', 'AX', 'AZ', 'BA', 'BB', 'BD', 'BE', 'BF', 'BG', 'BH', 'BI', 'BJ', 'BL', 'BM', 'BN', 'BO', 'BQ', 'BR', 'BS', 'BT', 'BV', 'BW', 'BY', 'BZ', 'CA', 'CC', 'CD', 'CF', 'CG', 'CH', 'CI', 'CK', 'CL', 'CM', 'CN', 'CO', 'CR', 'CU', 'CV', 'CW', 'CX', 'CY', 'CZ', 'DE', 'DJ', 'DK', 'DM', 'DO', 'DZ', 'EC', 'EE', 'EG', 'EH', 'ER', 'ES', 'ET', 'FI', 'FJ', 'FK', 'FM', 'FO', 'FR', 'GA', 'GB', 'GD', 'GE', 'GF', 'GG', 'GH', 'GI', 'GL', 'GM', 'GN', 'GP', 'GQ', 'GR', 'GS', 'GT', 'GU', 'GW', 'GY', 'HK', 'HM', 'HN', 'HR', 'HT', 'HU', 'ID', 'IE', 'IL', 'IM', 'IN', 'IO', 'IQ', 'IR', 'IS', 'IT', 'JE', 'JM', 'JO', 'JP', 'KE', 'KG', 'KH', 'KI', 'KM', 'KN', 'KP', 'KR', 'KW', 'KY', 'KZ', 'LA', 'LB', 'LC', 'LI', 'LK', 'LR', 'LS', 'LT', 'LU', 'LV', 'LY', 'MA', 'MC', 'MD', 'ME', 'MF', 'MG', 'MH', 'MK', 'ML', 'MM', 'MN', 'MO', 'MP', 'MQ', 'MR', 'MS', 'MT', 'MU', 'MV', 'MW', 'MX', 'MY', 'MZ', 'NA', 'NC', 'NE', 'NF', 'NG', 'NI', 'NL', 'NO', 'NP', 'NR', 'NU', 'NZ', 'OM', 'PA', 'PE', 'PF', 'PG', 'PH', 'PK', 'PL', 'PM', 'PN', 'PR', 'PS', 'PT', 'PW', 'PY', 'QA', 'RE', 'RO', 'RS', 'RU', 'RW', 'SA', 'SB', 'SC', 'SD', 'SE', 'SG', 'SH', 'SI', 'SJ', 'SK', 'SL', 'SM', 'SN', 'SO', 'SR', 'SS', 'ST', 'SV', 'SX', 'SY', 'SZ', 'TC', 'TD', 'TF', 'TG', 'TH', 'TJ', 'TK', 'TL', 'TM', 'TN', 'TO', 'TR', 'TT', 'TV', 'TW', 'TZ', 'UA', 'UG', 'UM', 'US', 'UY', 'UZ', 'VA', 'VC', 'VE', 'VG', 'VI', 'VN', 'VU', 'WF', 'WS', 'YE', 'YT', 'ZA', 'ZM', 'ZW', 'XK', 'Other'], 'asset.assets.variety': ['M - Disk drive', 'M - Disk media', 'M - Documents', 'M - Flash drive', 'M - Payment card', 'M - Smart card', 'M - Tapes', 'M - Other', 'M - Unknown', 'M - Fax', 'N - Access reader', 'N - Broadband', 'N - Camera', 'N - Firewall', 'N - HSM', 'N - IDS', 'N - LAN', 'N - NAS', 'N - PBX', 'N - PLC', 'N - Private WAN', 'N - Public WAN', 'N - Router or switch', 'N - RTU', 'N - SAN', 'N - Telephone', 'N - VoIP adapter', 'N - WLAN', 'N - Other', 'N - Unknown', 'P - Auditor', 'P - Call center', 'P - Cashier', 'P - Customer', 'P - Developer', 'P - End-user', 'P - End-user or employee', 'P - Executive', 'P - Finance', 'P - Former employee', 'P - Guard', 'P - Helpdesk', 'P - Human resources', 'P - Maintenance', 'P - Manager', 'P - Other employee', 'P - Partner', 'P - System admin', 'P - Other', 'P - Unknown', 'S - Authentication', 'S - Backup', 'S - Configuration or patch management', 'S - Code repository', 'S - Database', 'S - DCS', 'S - DHCP', 'S - Directory', 'S - DNS', 'S - File', 'S - ICS', 'S - Log', 'S - Mail', 'S - Mainframe', 'S - Payment switch', 'S - POS controller', 'S - Print', 'S - Proxy', 'S - Remote access', 'S - VM host', 'S - Web application', 'S - Other', 'S - Unknown', 'T - ATM', 'T - Gas terminal', 'T - Kiosk', 'T - PED pad', 'T - Other', 'T - Unknown', 'U - Auth token', 'U - Desktop', 'U - Desktop or laptop', 'U - Laptop', 'U - Media', 'U - Mobile phone', 'U - Peripheral', 'U - POS terminal', 'U - Tablet', 'U - Telephone', 'U - VoIP phone', 'U - Other', 'U - Unknown', 'E - Telemetry', 'E - Telematics', 'E - Other', 'E - Unknown', 'Unknown', 'Other'], 'asset.assets.amount': ['M - Disk drive', 'M - Disk media', 'M - Documents', 'M - Flash drive', 'M - Payment card', 'M - Smart card', 'M - Tapes', 'M - Other', 'M - Unknown', 'M - Fax', 'N - Access reader', 'N - Broadband', 'N - Camera', 'N - Firewall', 'N - HSM', 'N - IDS', 'N - LAN', 'N - NAS', 'N - PBX', 'N - PLC', 'N - Private WAN', 'N - Public WAN', 'N - Router or switch', 'N - RTU', 'N - SAN', 'N - Telephone', 'N - VoIP adapter', 'N - WLAN', 'N - Other', 'N - Unknown', 'P - Auditor', 'P - Call center', 'P - Cashier', 'P - Customer', 'P - Developer', 'P - End-user', 'P - End-user or employee', 'P - Executive', 'P - Finance', 'P - Former employee', 'P - Guard', 'P - Helpdesk', 'P - Human resources', 'P - Maintenance', 'P - Manager', 'P - Other employee', 'P - Partner', 'P - System admin', 'P - Other', 'P - Unknown', 'S - Authentication', 'S - Backup', 'S - Configuration or patch management', 'S - Code repository', 'S - Database', 'S - DCS', 'S - DHCP', 'S - Directory', 'S - DNS', 'S - File', 'S - ICS', 'S - Log', 'S - Mail', 'S - Mainframe', 'S - Payment switch', 'S - POS controller', 'S - Print', 'S - Proxy', 'S - Remote access', 'S - VM host', 'S - Web application', 'S - Other', 'S - Unknown', 'T - ATM', 'T - Gas terminal', 'T - Kiosk', 'T - PED pad', 'T - Other', 'T - Unknown', 'U - Auth token', 'U - Desktop', 'U - Desktop or laptop', 'U - Laptop', 'U - Media', 'U - Mobile phone', 'U - Peripheral', 'U - POS terminal', 'U - Tablet', 'U - Telephone', 'U - VoIP phone', 'U - Other', 'U - Unknown', 'E - Telemetry', 'E - Telematics', 'E - Other', 'E - Unknown', 'Unknown', 'Other'], 'asset.ownership': ['Customer', 'Employee', 'NA', 'Partner', 'Unknown', 'Victim', 'Other'], 'asset.cloud': ['On-Premise Asset(s)', 'External Cloud Asset(s)', 'Other', 'Unknown', 'NA'], 'asset.hosting': ['External - unknown environment', 'External - dedicated environment', 'External - shared environment', 'Internal', 'NA', 'Other', 'Unknown'], 'asset.management': ['External', 'Internal', 'Co-managed', 'NA', 'Unknown', 'Other'], 'asset.role': ['IT', 'OT', 'Unknown', 'Other', 'NA'], 'asset.country': ['Unknown', 'AD', 'AE', 'AF', 'AG', 'AI', 'AL', 'AM', 'AO', 'AQ', 'AR', 'AS', 'AT', 'AU', 'AW', 'AX', 'AZ', 'BA', 'BB', 'BD', 'BE', 'BF', 'BG', 'BH', 'BI', 'BJ', 'BL', 'BM', 'BN', 'BO', 'BQ', 'BR', 'BS', 'BT', 'BV', 'BW', 'BY', 'BZ', 'CA', 'CC', 'CD', 'CF', 'CG', 'CH', 'CI', 'CK', 'CL', 'CM', 'CN', 'CO', 'CR', 'CU', 'CV', 'CW', 'CX', 'CY', 'CZ', 'DE', 'DJ', 'DK', 'DM', 'DO', 'DZ', 'EC', 'EE', 'EG', 'EH', 'ER', 'ES', 'ET', 'FI', 'FJ', 'FK', 'FM', 'FO', 'FR', 'GA', 'GB', 'GD', 'GE', 'GF', 'GG', 'GH', 'GI', 'GL', 'GM', 'GN', 'GP', 'GQ', 'GR', 'GS', 'GT', 'GU', 'GW', 'GY', 'HK', 'HM', 'HN', 'HR', 'HT', 'HU', 'ID', 'IE', 'IL', 'IM', 'IN', 'IO', 'IQ', 'IR', 'IS', 'IT', 'JE', 'JM', 'JO', 'JP', 'KE', 'KG', 'KH', 'KI', 'KM', 'KN', 'KP', 'KR', 'KW', 'KY', 'KZ', 'LA', 'LB', 'LC', 'LI', 'LK', 'LR', 'LS', 'LT', 'LU', 'LV', 'LY', 'MA', 'MC', 'MD', 'ME', 'MF', 'MG', 'MH', 'MK', 'ML', 'MM', 'MN', 'MO', 'MP', 'MQ', 'MR', 'MS', 'MT', 'MU', 'MV', 'MW', 'MX', 'MY', 'MZ', 'NA', 'NC', 'NE', 'NF', 'NG', 'NI', 'NL', 'NO', 'NP', 'NR', 'NU', 'NZ', 'OM', 'PA', 'PE', 'PF', 'PG', 'PH', 'PK', 'PL', 'PM', 'PN', 'PR', 'PS', 'PT', 'PW', 'PY', 'QA', 'RE', 'RO', 'RS', 'RU', 'RW', 'SA', 'SB', 'SC', 'SD', 'SE', 'SG', 'SH', 'SI', 'SJ', 'SK', 'SL', 'SM', 'SN', 'SO', 'SR', 'SS', 'ST', 'SV', 'SX', 'SY', 'SZ', 'TC', 'TD', 'TF', 'TG', 'TH', 'TJ', 'TK', 'TL', 'TM', 'TN', 'TO', 'TR', 'TT', 'TV', 'TW', 'TZ', 'UA', 'UG', 'UM', 'US', 'UY', 'UZ', 'VA', 'VC', 'VE', 'VG', 'VI', 'VN', 'VU', 'WF', 'WS', 'YE', 'YT', 'ZA', 'ZM', 'ZW', 'XK', 'Other'], 'attribute.confidentiality.data_disclosure': ['No', 'Potentially', 'Yes', 'Unknown'], 'attribute.confidentiality.data.amount': ['Bank', 'Classified', 'Copyrighted', 'Credentials', 'Digital certificate', 'Internal', 'Medical', 'Payment', 'Personal', 'Secrets', 'Source code', 'System', 'Virtual currency', 'Other', 'Unknown'], 'attribute.confidentiality.data.variety': ['Bank', 'Classified', 'Copyrighted', 'Credentials', 'Digital certificate', 'Internal', 'Medical', 'Payment', 'Personal', 'Secrets', 'Source code', 'System', 'Virtual currency', 'Other', 'Unknown'], 'attribute.confidentiality.data_victim': ['Customer', 'Employee', 'Partner', 'Patient', 'Student', 'Victim organization', 'Other', 'Unknown'], 'attribute.confidentiality.state': ['Processed', 'Stored', 'Stored encrypted', 'Stored unencrypted', 'Transmitted', 'Transmitted encrypted', 'Transmitted unencrypted', 'Other', 'Unknown', 'Printed'], 'attribute.integrity.variety': ['Alter behavior', 'Created account', 'Defacement', 'Fraudulent transaction', 'Hardware tampering', 'Log tampering', 'Misrepresentation', 'Modify configuration', 'Modify data', 'Modify privileges', 'Repurpose', 'Software installation', 'Other', 'Unknown'], 'attribute.availability.variety': ['Acceleration', 'Degradation', 'Destruction', 'Interruption', 'Loss', 'Obscuration', 'Other', 'Unknown'], 'attribute.availability.duration.unit': ['Seconds', 'Minutes', 'Hours', 'Days', 'Weeks', 'Months', 'Years', 'Never', 'NA', 'Unknown'], 'targeted': ['Opportunistic', 'Targeted', 'NA', 'Unknown'], 'discovery_method.external.variety': ['Actor disclosure', 'Audit', 'Customer', 'Emergency response team', 'Found documents', 'Fraud detection', 'Incident response', 'Law enforcement', 'Security researcher', 'Suspicious traffic', 'Unrelated 3rd party', 'Other', 'Unknown'], 'discovery_method.internal.variety': ['Antivirus', 'Break in discovered', 'Data loss prevention', 'Financial audit', 'Fraud detection', 'Hids', 'Incident response', 'Infrastructure monitoring', 'It review', 'Log review', 'Nids', 'Offboarding', 'Reported by employee', 'Security alarm', 'Other', 'Unknown'], 'discovery_method.partner.variety': ['Antivirus', 'Audit', 'Incident response', 'Monitoring service', 'Other', 'Unknown'], 'value_chain.development.variety': ['Bot', 'Email', 'Exploit', 'Exploit Kits', 'Payload', 'Persona', 'Physical', 'Ransomware', 'Trojan', 'Website', 'NA', 'Other', 'Unknown'], 'value_chain.non-distribution services.variety': ['C2', 'Counter AV', 'DNS', 'Escrow', 'Hashcracking', 'Marketplace', 'Proxy', 'VPN', 'NA', 'Other', 'Unknown'], 'value_chain.targeting.variety': ['Default credentials', 'Email addresses', 'Lost or stolen credentials', 'Misconfigurations', 'Partner', 'Personal Information', 'Physical', 'Organizational Information', 'Vulnerabilities', 'Weaknesses', 'NA', 'Other', 'Unknown'], 'value_chain.distribution.variety': ['Botnet', 'Compromised server', 'Direct', 'Email', 'Loader', 'Partner', 'Phone', 'Physical', 'Website', 'NA', 'Other', 'Unknown'], 'value_chain.cash-out.variety': ['Cryptocurrency', 'Direct', 'Fraud', 'Hijacked rewards', 'Provide service', 'Sell stolen goods', 'Purchase stolen goods', 'NA', 'Other', 'Unknown'], 'value_chain.money laundering.variety': ['Bank', 'Company', 'Cryptocurrency tumbling', 'Employment', 'Gambling', 'Physical', 'Provide service', 'Re-shipping', 'Smurfing', 'Sell stolen goods', 'NA', 'Other', 'Unknown'], 'impact.overall_rating': ['Catastrophic', 'Damaging', 'Painful', 'Distracting', 'Insignificant', 'Unknown'], 'impact.iso_currency_code': ['AED', 'AFN', 'ALL', 'AMD', 'ANG', 'AOA', 'ARS', 'AUD', 'AWG', 'AZN', 'BAM', 'BBD', 'BDT', 'BGN', 'BHD', 'BIF', 'BMD', 'BND', 'BOB', 'BRL', 'BSD', 'BTN', 'BWP', 'BYR', 'BZD', 'CAD', 'CDF', 'CHF', 'CLP', 'CNY', 'COP', 'CRC', 'CUC', 'CUP', 'CVE', 'CZK', 'DJF', 'DKK', 'DOP', 'DZD', 'EGP', 'ERN', 'ETB', 'EUR', 'FJD', 'FKP', 'GBP', 'GEL', 'GGP', 'GHS', 'GIP', 'GMD', 'GNF', 'GTQ', 'GYD', 'HKD', 'HNL', 'HRK', 'HTG', 'HUF', 'IDR', 'ILS', 'IMP', 'INR', 'IQD', 'IRR', 'ISK', 'JEP', 'JMD', 'JOD', 'JPY', 'KES', 'KGS', 'KHR', 'KMF', 'KPW', 'KRW', 'KWD', 'KYD', 'KZT', 'LAK', 'LBP', 'LKR', 'LRD', 'LSL', 'LTL', 'LVL', 'LYD', 'MAD', 'MDL', 'MGA', 'MKD', 'MMK', 'MNT', 'MOP', 'MRO', 'MUR', 'MVR', 'MWK', 'MXN', 'MYR', 'MZN', 'NAD', 'NGN', 'NIO', 'NOK', 'NPR', 'NZD', 'OMR', 'PAB', 'PEN', 'PGK', 'PHP', 'PKR', 'PLN', 'PYG', 'QAR', 'RON', 'RSD', 'RUB', 'RWF', 'SAR', 'SBD', 'SCR', 'SDG', 'SEK', 'SGD', 'SHP', 'SLL', 'SOS', 'SPL', 'SRD', 'STD', 'SVC', 'SYP', 'SZL', 'THB', 'TJS', 'TMT', 'TND', 'TOP', 'TRY', 'TTD', 'TVD', 'TWD', 'TZS', 'UAH', 'UGX', 'USD', 'UYU', 'UZS', 'VEF', 'VND', 'VUV', 'WST', 'XAF', 'XCD', 'XDR', 'XOF', 'XPF', 'YER', 'ZAR', 'ZMK', 'ZWD', 'XBT', 'BCH', 'Ether', 'Litecoin', 'XMR', 'ZEC'], 'impact.loss.variety': ['Asset and fraud', 'Brand damage', 'Business disruption', 'Competitive advantage', 'Legal and regulatory', 'Operating costs', 'Response and recovery', 'Other'], 'impact.loss.rating': ['Major', 'Moderate', 'Minor', 'None', 'Unknown'], 'impact.loss.amount': ['Asset and fraud', 'Brand damage', 'Business disruption', 'Competitive advantage', 'Legal and regulatory', 'Operating costs', 'Response and recovery', 'Other'], 'cost_corrective_action': ['Difficult and expensive', 'Something in-between', 'Simple and cheap', 'Unknown']}\n"
     ]
    }
   ],
   "source": [
    "print(v.enumerations)"
   ]
  },
  {
   "cell_type": "code",
   "execution_count": 7,
   "id": "870f94dc",
   "metadata": {
    "pycharm": {
     "name": "#%%\n"
    }
   },
   "outputs": [],
   "source": [
    "variety_df = v.enum_summary(veris_df, 'action.social.variety')"
   ]
  },
  {
   "cell_type": "code",
   "execution_count": 8,
   "id": "eb9290a6",
   "metadata": {
    "pycharm": {
     "name": "#%%\n"
    }
   },
   "outputs": [
    {
     "name": "stdout",
     "output_type": "stream",
     "text": [
      "              enum    x      n     freq\n",
      "0         Phishing  408  575.0  0.70957\n",
      "1          Bribery   54  575.0  0.09391\n",
      "2       Pretexting   52  575.0  0.09043\n",
      "3        Extortion   34  575.0  0.05913\n",
      "4          Forgery   17  575.0  0.02957\n",
      "5        Influence   15  575.0  0.02609\n",
      "6            Other   11  575.0  0.01913\n",
      "7       Propaganda    3  575.0  0.00522\n",
      "8          Baiting    2  575.0  0.00348\n",
      "9      Elicitation    2  575.0  0.00348\n",
      "10            Scam    2  575.0  0.00348\n",
      "11            Spam    1  575.0  0.00174\n",
      "12  Evade Defenses    0  575.0  0.00000\n",
      "13         Unknown   16    NaN      NaN\n"
     ]
    }
   ],
   "source": [
    "print(variety_df)"
   ]
  },
  {
   "cell_type": "code",
   "execution_count": 9,
   "id": "2f01ad02",
   "metadata": {
    "pycharm": {
     "name": "#%%\n"
    }
   },
   "outputs": [
    {
     "data": {
      "text/plain": "<Figure size 432x288 with 1 Axes>",
      "image/png": "[encoded data removed]"
     },
     "metadata": {
      "needs_background": "light"
     },
     "output_type": "display_data"
    }
   ],
   "source": [
    "variety_fig=v.plot_barchart(variety_df, 'Variety')"
   ]
  },
  {
   "cell_type": "code",
   "execution_count": 10,
   "id": "9ad798b6",
   "metadata": {
    "pycharm": {
     "name": "#%%\n"
    }
   },
   "outputs": [
    {
     "name": "stdout",
     "output_type": "stream",
     "text": [
      "0       False\n",
      "1       False\n",
      "2       False\n",
      "3       False\n",
      "4       False\n",
      "        ...  \n",
      "8538    False\n",
      "8539     True\n",
      "8540    False\n",
      "8541     True\n",
      "8542    False\n",
      "Name: attribute.availability.variety.Loss, Length: 8538, dtype: bool\n"
     ]
    }
   ],
   "source": [
    "money=veris_df['attribute.availability.variety.Loss']\n",
    "print(money)"
   ]
  },
  {
   "cell_type": "code",
   "execution_count": 11,
   "id": "f2a39244",
   "metadata": {
    "pycharm": {
     "name": "#%%\n"
    }
   },
   "outputs": [
    {
     "data": {
      "text/plain": "   action.Environmental  action.Error  action.Hacking  action.Malware  \\\n0                 False         False           False           False   \n1                 False          True           False           False   \n2                 False         False           False            True   \n3                 False         False            True           False   \n4                 False         False            True           False   \n\n   action.Misuse  action.Physical  action.Social  action.Unknown  \\\n0           True            False          False           False   \n1          False            False          False           False   \n2          False            False           True           False   \n3          False            False          False           False   \n4          False            False          False           False   \n\n  action.environmental.notes  action.environmental.variety.Deterioration  ...  \\\n0                        NaN                                       False  ...   \n1                        NaN                                       False  ...   \n2                        NaN                                       False  ...   \n3                        NaN                                       False  ...   \n4                        NaN                                       False  ...   \n\n   victim.revenue.iso_currency_code.YER  victim.revenue.iso_currency_code.ZAR  \\\n0                                 False                                 False   \n1                                 False                                 False   \n2                                 False                                 False   \n3                                 False                                 False   \n4                                 False                                 False   \n\n   victim.revenue.iso_currency_code.ZEC  victim.revenue.iso_currency_code.ZMK  \\\n0                                 False                                 False   \n1                                 False                                 False   \n2                                 False                                 False   \n3                                 False                                 False   \n4                                 False                                 False   \n\n   victim.revenue.iso_currency_code.ZWD  victim.secondary.amount  \\\n0                                 False                      NaN   \n1                                 False                      NaN   \n2                                 False                      NaN   \n3                                 False                      NaN   \n4                                 False                      NaN   \n\n   victim.secondary.notes  victim.secondary.victim_id  victim.state  \\\n0                     NaN                         NaN            NJ   \n1                     NaN                         NaN           NaN   \n2                     NaN                         NaN           NaN   \n3                     NaN                         NaN            FL   \n4                     NaN                         NaN           NaN   \n\n                        victim.victim_id  \n0                        C.R. Bard, Inc.  \n1   British Columbia Ministry of Finance  \n2                                    NaN  \n3                 Camberwell High School  \n4  Loyalist Certification Services Exams  \n\n[5 rows x 2430 columns]",
      "text/html": "<div>\n<style scoped>\n    .dataframe tbody tr th:only-of-type {\n        vertical-align: middle;\n    }\n\n    .dataframe tbody tr th {\n        vertical-align: top;\n    }\n\n    .dataframe thead th {\n        text-align: right;\n    }\n</style>\n<table border=\"1\" class=\"dataframe\">\n  <thead>\n    <tr style=\"text-align: right;\">\n      <th></th>\n      <th>action.Environmental</th>\n      <th>action.Error</th>\n      <th>action.Hacking</th>\n      <th>action.Malware</th>\n      <th>action.Misuse</th>\n      <th>action.Physical</th>\n      <th>action.Social</th>\n      <th>action.Unknown</th>\n      <th>action.environmental.notes</th>\n      <th>action.environmental.variety.Deterioration</th>\n      <th>...</th>\n      <th>victim.revenue.iso_currency_code.YER</th>\n      <th>victim.revenue.iso_currency_code.ZAR</th>\n      <th>victim.revenue.iso_currency_code.ZEC</th>\n      <th>victim.revenue.iso_currency_code.ZMK</th>\n      <th>victim.revenue.iso_currency_code.ZWD</th>\n      <th>victim.secondary.amount</th>\n      <th>victim.secondary.notes</th>\n      <th>victim.secondary.victim_id</th>\n      <th>victim.state</th>\n      <th>victim.victim_id</th>\n    </tr>\n  </thead>\n  <tbody>\n    <tr>\n      <th>0</th>\n      <td>False</td>\n      <td>False</td>\n      <td>False</td>\n      <td>False</td>\n      <td>True</td>\n      <td>False</td>\n      <td>False</td>\n      <td>False</td>\n      <td>NaN</td>\n      <td>False</td>\n      <td>...</td>\n      <td>False</td>\n      <td>False</td>\n      <td>False</td>\n      <td>False</td>\n      <td>False</td>\n      <td>NaN</td>\n      <td>NaN</td>\n      <td>NaN</td>\n      <td>NJ</td>\n      <td>C.R. Bard, Inc.</td>\n    </tr>\n    <tr>\n      <th>1</th>\n      <td>False</td>\n      <td>True</td>\n      <td>False</td>\n      <td>False</td>\n      <td>False</td>\n      <td>False</td>\n      <td>False</td>\n      <td>False</td>\n      <td>NaN</td>\n      <td>False</td>\n      <td>...</td>\n      <td>False</td>\n      <td>False</td>\n      <td>False</td>\n      <td>False</td>\n      <td>False</td>\n      <td>NaN</td>\n      <td>NaN</td>\n      <td>NaN</td>\n      <td>NaN</td>\n      <td>British Columbia Ministry of Finance</td>\n    </tr>\n    <tr>\n      <th>2</th>\n      <td>False</td>\n      <td>False</td>\n      <td>False</td>\n      <td>True</td>\n      <td>False</td>\n      <td>False</td>\n      <td>True</td>\n      <td>False</td>\n      <td>NaN</td>\n      <td>False</td>\n      <td>...</td>\n      <td>False</td>\n      <td>False</td>\n      <td>False</td>\n      <td>False</td>\n      <td>False</td>\n      <td>NaN</td>\n      <td>NaN</td>\n      <td>NaN</td>\n      <td>NaN</td>\n      <td>NaN</td>\n    </tr>\n    <tr>\n      <th>3</th>\n      <td>False</td>\n      <td>False</td>\n      <td>True</td>\n      <td>False</td>\n      <td>False</td>\n      <td>False</td>\n      <td>False</td>\n      <td>False</td>\n      <td>NaN</td>\n      <td>False</td>\n      <td>...</td>\n      <td>False</td>\n      <td>False</td>\n      <td>False</td>\n      <td>False</td>\n      <td>False</td>\n      <td>NaN</td>\n      <td>NaN</td>\n      <td>NaN</td>\n      <td>FL</td>\n      <td>Camberwell High School</td>\n    </tr>\n    <tr>\n      <th>4</th>\n      <td>False</td>\n      <td>False</td>\n      <td>True</td>\n      <td>False</td>\n      <td>False</td>\n      <td>False</td>\n      <td>False</td>\n      <td>False</td>\n      <td>NaN</td>\n      <td>False</td>\n      <td>...</td>\n      <td>False</td>\n      <td>False</td>\n      <td>False</td>\n      <td>False</td>\n      <td>False</td>\n      <td>NaN</td>\n      <td>NaN</td>\n      <td>NaN</td>\n      <td>NaN</td>\n      <td>Loyalist Certification Services Exams</td>\n    </tr>\n  </tbody>\n</table>\n<p>5 rows × 2430 columns</p>\n</div>"
     },
     "execution_count": 11,
     "metadata": {},
     "output_type": "execute_result"
    }
   ],
   "source": [
    "veris_df.head()"
   ]
  },
  {
   "cell_type": "code",
   "execution_count": 12,
   "id": "34234d1b",
   "metadata": {
    "pycharm": {
     "name": "#%%\n"
    }
   },
   "outputs": [
    {
     "name": "stdout",
     "output_type": "stream",
     "text": [
      "2013    1938\n",
      "2012    1273\n",
      "2014    1007\n",
      "2015     916\n",
      "2016     834\n",
      "2010     588\n",
      "2017     573\n",
      "2011     546\n",
      "2018     311\n",
      "2019     230\n",
      "2009      94\n",
      "2008      82\n",
      "2007      51\n",
      "2006      23\n",
      "2005      23\n",
      "2004      17\n",
      "2003      12\n",
      "2002       6\n",
      "2001       5\n",
      "1984       2\n",
      "1999       2\n",
      "2000       1\n",
      "1998       1\n",
      "1995       1\n",
      "1994       1\n",
      "1971       1\n",
      "Name: timeline.incident.year, dtype: int64\n"
     ]
    }
   ],
   "source": [
    "timeline = veris_df['timeline.incident.year'].sort_values()\n",
    "\n",
    "print(timeline.value_counts())"
   ]
  },
  {
   "cell_type": "code",
   "execution_count": 13,
   "id": "629b36c2",
   "metadata": {
    "pycharm": {
     "name": "#%%\n"
    }
   },
   "outputs": [
    {
     "data": {
      "text/plain": "<AxesSubplot:>"
     },
     "execution_count": 13,
     "metadata": {},
     "output_type": "execute_result"
    },
    {
     "data": {
      "text/plain": "<Figure size 432x288 with 1 Axes>",
      "image/png": "[encoded data removed]"
     },
     "metadata": {
      "needs_background": "light"
     },
     "output_type": "display_data"
    }
   ],
   "source": [
    "timeline.value_counts().plot(kind=\"bar\")"
   ]
  },
  {
   "cell_type": "code",
   "execution_count": 14,
   "id": "4883d237",
   "metadata": {
    "pycharm": {
     "name": "#%%\n"
    }
   },
   "outputs": [
    {
     "name": "stdout",
     "output_type": "stream",
     "text": [
      "      action.Environmental  action.Error  action.Hacking  action.Malware  \\\n",
      "0                    False         False           False           False   \n",
      "1                    False          True           False           False   \n",
      "2                    False         False           False            True   \n",
      "3                    False         False            True           False   \n",
      "4                    False         False            True           False   \n",
      "...                    ...           ...             ...             ...   \n",
      "8538                 False         False           False           False   \n",
      "8539                 False         False           False           False   \n",
      "8540                 False         False            True           False   \n",
      "8541                 False          True           False           False   \n",
      "8542                 False         False            True           False   \n",
      "\n",
      "      action.Misuse  action.Physical  action.Social  action.Unknown  \\\n",
      "0              True            False          False           False   \n",
      "1             False            False          False           False   \n",
      "2             False            False           True           False   \n",
      "3             False            False          False           False   \n",
      "4             False            False          False           False   \n",
      "...             ...              ...            ...             ...   \n",
      "8538          False            False          False            True   \n",
      "8539          False             True          False           False   \n",
      "8540          False            False          False           False   \n",
      "8541          False            False          False           False   \n",
      "8542          False            False          False           False   \n",
      "\n",
      "     action.environmental.notes  action.environmental.variety.Deterioration  \\\n",
      "0                           NaN                                       False   \n",
      "1                           NaN                                       False   \n",
      "2                           NaN                                       False   \n",
      "3                           NaN                                       False   \n",
      "4                           NaN                                       False   \n",
      "...                         ...                                         ...   \n",
      "8538                        NaN                                       False   \n",
      "8539                        NaN                                       False   \n",
      "8540                        NaN                                       False   \n",
      "8541                        NaN                                       False   \n",
      "8542                        NaN                                       False   \n",
      "\n",
      "      ...  victim.revenue.iso_currency_code.YER  \\\n",
      "0     ...                                 False   \n",
      "1     ...                                 False   \n",
      "2     ...                                 False   \n",
      "3     ...                                 False   \n",
      "4     ...                                 False   \n",
      "...   ...                                   ...   \n",
      "8538  ...                                 False   \n",
      "8539  ...                                 False   \n",
      "8540  ...                                 False   \n",
      "8541  ...                                 False   \n",
      "8542  ...                                 False   \n",
      "\n",
      "      victim.revenue.iso_currency_code.ZAR  \\\n",
      "0                                    False   \n",
      "1                                    False   \n",
      "2                                    False   \n",
      "3                                    False   \n",
      "4                                    False   \n",
      "...                                    ...   \n",
      "8538                                 False   \n",
      "8539                                 False   \n",
      "8540                                 False   \n",
      "8541                                 False   \n",
      "8542                                 False   \n",
      "\n",
      "      victim.revenue.iso_currency_code.ZEC  \\\n",
      "0                                    False   \n",
      "1                                    False   \n",
      "2                                    False   \n",
      "3                                    False   \n",
      "4                                    False   \n",
      "...                                    ...   \n",
      "8538                                 False   \n",
      "8539                                 False   \n",
      "8540                                 False   \n",
      "8541                                 False   \n",
      "8542                                 False   \n",
      "\n",
      "      victim.revenue.iso_currency_code.ZMK  \\\n",
      "0                                    False   \n",
      "1                                    False   \n",
      "2                                    False   \n",
      "3                                    False   \n",
      "4                                    False   \n",
      "...                                    ...   \n",
      "8538                                 False   \n",
      "8539                                 False   \n",
      "8540                                 False   \n",
      "8541                                 False   \n",
      "8542                                 False   \n",
      "\n",
      "      victim.revenue.iso_currency_code.ZWD  victim.secondary.amount  \\\n",
      "0                                    False                      NaN   \n",
      "1                                    False                      NaN   \n",
      "2                                    False                      NaN   \n",
      "3                                    False                      NaN   \n",
      "4                                    False                      NaN   \n",
      "...                                    ...                      ...   \n",
      "8538                                 False                      NaN   \n",
      "8539                                 False                      NaN   \n",
      "8540                                 False                      NaN   \n",
      "8541                                 False                      NaN   \n",
      "8542                                 False                      NaN   \n",
      "\n",
      "      victim.secondary.notes  victim.secondary.victim_id  victim.state  \\\n",
      "0                        NaN                         NaN            NJ   \n",
      "1                        NaN                         NaN           NaN   \n",
      "2                        NaN                         NaN           NaN   \n",
      "3                        NaN                         NaN            FL   \n",
      "4                        NaN                         NaN           NaN   \n",
      "...                      ...                         ...           ...   \n",
      "8538                     NaN                         NaN           NaN   \n",
      "8539                     NaN                         NaN            LA   \n",
      "8540                     NaN                         NaN           NaN   \n",
      "8541                     NaN                         NaN           NaN   \n",
      "8542                     NaN                         NaN            CO   \n",
      "\n",
      "                                victim.victim_id  \n",
      "0                                C.R. Bard, Inc.  \n",
      "1           British Columbia Ministry of Finance  \n",
      "2                                            NaN  \n",
      "3                         Camberwell High School  \n",
      "4          Loyalist Certification Services Exams  \n",
      "...                                          ...  \n",
      "8538                Delhi Metro Rail Corporation  \n",
      "8539                    Pousson Family Dentistry  \n",
      "8540     Australian Defence Force Academy (ADFA)  \n",
      "8541  Basildon and Thurrock University Hospitals  \n",
      "8542                                    Name.com  \n",
      "\n",
      "[8538 rows x 2430 columns]\n"
     ]
    }
   ],
   "source": [
    "\n",
    "print(veris_df)"
   ]
  },
  {
   "cell_type": "code",
   "execution_count": 14,
   "id": "622835ec",
   "metadata": {
    "pycharm": {
     "name": "#%%\n"
    }
   },
   "outputs": [],
   "source": []
  }
 ],
 "metadata": {
  "kernelspec": {
   "display_name": "Python 3 (ipykernel)",
   "language": "python",
   "name": "python3"
  },
  "language_info": {
   "codemirror_mode": {
    "name": "ipython",
    "version": 3
   },
   "file_extension": ".py",
   "mimetype": "text/x-python",
   "name": "python",
   "nbconvert_exporter": "python",
   "pygments_lexer": "ipython3",
   "version": "3.9.7"
  }
 },
 "nbformat": 4,
 "nbformat_minor": 5
}